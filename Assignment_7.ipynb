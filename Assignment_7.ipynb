{
 "cells": [
  {
   "cell_type": "code",
   "execution_count": null,
   "id": "02a76b62",
   "metadata": {},
   "outputs": [],
   "source": [
    "Q1:\n",
    "What is the name of feature responsible for generating Regex objects?"
   ]
  },
  {
   "cell_type": "code",
   "execution_count": null,
   "id": "63211a66",
   "metadata": {},
   "outputs": [],
   "source": [
    "Ans1:\n",
    "Feature responsible for generating Regex objects is re.compile()"
   ]
  },
  {
   "cell_type": "code",
   "execution_count": null,
   "id": "64f5e275",
   "metadata": {},
   "outputs": [],
   "source": [
    "Q2:\n",
    "Why do raw strings often appear in Regex objects?"
   ]
  },
  {
   "cell_type": "code",
   "execution_count": null,
   "id": "c62baa96",
   "metadata": {},
   "outputs": [],
   "source": [
    "Ans2:\n",
    "Raw strings 'r' appears so that backslashes do not have to be escaped."
   ]
  },
  {
   "cell_type": "code",
   "execution_count": null,
   "id": "858fbaee",
   "metadata": {},
   "outputs": [],
   "source": [
    "Q3:\n",
    "What is the return value of the search() method?"
   ]
  },
  {
   "cell_type": "code",
   "execution_count": null,
   "id": "fcdaaf87",
   "metadata": {},
   "outputs": [],
   "source": [
    "Ans3:\n",
    "search() method returns a match object if there is a match anywhere in the string."
   ]
  },
  {
   "cell_type": "code",
   "execution_count": null,
   "id": "e1f325ff",
   "metadata": {},
   "outputs": [],
   "source": [
    "Q4:\n",
    "From a Match item, how do you get the actual strings that match the pattern?"
   ]
  },
  {
   "cell_type": "code",
   "execution_count": null,
   "id": "a8731211",
   "metadata": {},
   "outputs": [],
   "source": [
    "Ans4:\n",
    "The group() method returns actual strings that match the pattern."
   ]
  },
  {
   "cell_type": "code",
   "execution_count": null,
   "id": "b42a851d",
   "metadata": {},
   "outputs": [],
   "source": [
    "Q5:\n",
    "In the regex which created from the r'(\\d\\d\\d)-(\\d\\d\\d-\\d\\d\\d\\d)', what does group zero cover? Group 1? Group 2?"
   ]
  },
  {
   "cell_type": "code",
   "execution_count": null,
   "id": "846a4103",
   "metadata": {},
   "outputs": [],
   "source": [
    "Ans5:\n",
    "Group 0 covers the entire match, group 1 covers the first set of parentheses,\n",
    "and group 2 covers the second set of parentheses."
   ]
  },
  {
   "cell_type": "code",
   "execution_count": null,
   "id": "2e5fb63b",
   "metadata": {},
   "outputs": [],
   "source": [
    "Q6:\n",
    "In standard expression syntax, parentheses and intervals have distinct meanings.\n",
    "How can you tell a regex that you want it to fit real parentheses and periods?"
   ]
  },
  {
   "cell_type": "code",
   "execution_count": null,
   "id": "e60313bd",
   "metadata": {},
   "outputs": [],
   "source": [
    "Ans6:\n",
    "Periods and parentheses can be escaped with a Backslash like this: \\(, \\) and \\. ."
   ]
  },
  {
   "cell_type": "code",
   "execution_count": null,
   "id": "9f1491da",
   "metadata": {},
   "outputs": [],
   "source": [
    "Q7:\n",
    "The findall() method returns a string list or a list of string tuples. What caises it to return one of the two options?"
   ]
  },
  {
   "cell_type": "code",
   "execution_count": null,
   "id": "eebdafac",
   "metadata": {},
   "outputs": [],
   "source": [
    "Ans7:\n",
    "If the RegEx has no groups, a string list is returned. If the RegEx has groups, a list of string tuples is returned."
   ]
  },
  {
   "cell_type": "code",
   "execution_count": null,
   "id": "805fb542",
   "metadata": {},
   "outputs": [],
   "source": [
    "Q8:\n",
    "In standard expressions, what does the | character mean?"
   ]
  },
  {
   "cell_type": "code",
   "execution_count": null,
   "id": "1c30e6da",
   "metadata": {},
   "outputs": [],
   "source": [
    "Ans8:\n",
    "The | character matches \"either, or\" between two groups."
   ]
  },
  {
   "cell_type": "code",
   "execution_count": null,
   "id": "8b14fd2d",
   "metadata": {},
   "outputs": [],
   "source": [
    "Q9:\n",
    "In regular expressions, what does the character stand for?"
   ]
  },
  {
   "cell_type": "code",
   "execution_count": null,
   "id": "b9dadd8c",
   "metadata": {},
   "outputs": [],
   "source": [
    "Ans9:\n",
    "Character stands for the symbols that controls the search."
   ]
  },
  {
   "cell_type": "code",
   "execution_count": null,
   "id": "5223ac93",
   "metadata": {},
   "outputs": [],
   "source": [
    "Q10:\n",
    "In regular expressions, what is the difference between the + and * characters?"
   ]
  },
  {
   "cell_type": "code",
   "execution_count": null,
   "id": "bb6551d0",
   "metadata": {},
   "outputs": [],
   "source": [
    "Ans10:\n",
    "The + character matches 1 or more whereas * character matches 0 or more."
   ]
  },
  {
   "cell_type": "code",
   "execution_count": null,
   "id": "8c330371",
   "metadata": {},
   "outputs": [],
   "source": [
    "Q11:\n",
    "What is the difference between {4} and {4,5} in regular expression?"
   ]
  },
  {
   "cell_type": "code",
   "execution_count": null,
   "id": "36faab88",
   "metadata": {},
   "outputs": [],
   "source": [
    "Ans11:\n",
    "{4} matches exactly three instances of the preceding group whereas {4,5} matches between three and five instances."
   ]
  },
  {
   "cell_type": "code",
   "execution_count": null,
   "id": "26b5ba9e",
   "metadata": {},
   "outputs": [],
   "source": [
    "Q12:\n",
    "What do you mean by the \\d, \\w, and \\s shorhand character classes signify in regular expressions?"
   ]
  },
  {
   "cell_type": "code",
   "execution_count": null,
   "id": "db6f61ae",
   "metadata": {},
   "outputs": [],
   "source": [
    "Ans12:\n",
    "In regular expressions the \\d, \\w, and \\s shorthand character classes matches a single digit, word, or space character, respectively."
   ]
  },
  {
   "cell_type": "code",
   "execution_count": null,
   "id": "e862ff55",
   "metadata": {},
   "outputs": [],
   "source": [
    "Q13:\n",
    "What do means by \\D, \\W, and \\S shorthand character classes signify in regular expressions?"
   ]
  },
  {
   "cell_type": "code",
   "execution_count": null,
   "id": "4ed99e50",
   "metadata": {},
   "outputs": [],
   "source": [
    "Ans13:\n",
    "In Regular Expression \\D, \\W, and \\S shorthand character classes match a single character that is NOT a digit, word, or space character, respectively."
   ]
  },
  {
   "cell_type": "code",
   "execution_count": null,
   "id": "2d036967",
   "metadata": {},
   "outputs": [],
   "source": [
    "Q14:\n",
    "What is the difference between .? and .*?"
   ]
  },
  {
   "cell_type": "code",
   "execution_count": null,
   "id": "a979255c",
   "metadata": {},
   "outputs": [],
   "source": [
    "Ans14:\n",
    "In regex, the expression .? searches for one or zero occurences (of any character) where this expression is used \n",
    "Whereas the expression .* searches for zero or more occurences (of any character)."
   ]
  },
  {
   "cell_type": "code",
   "execution_count": null,
   "id": "7948a0f0",
   "metadata": {},
   "outputs": [],
   "source": [
    "Q15:\n",
    "What is the syntax for matching both numbers and lowercase letters with a character class?"
   ]
  },
  {
   "cell_type": "code",
   "execution_count": null,
   "id": "06c80004",
   "metadata": {},
   "outputs": [],
   "source": [
    "Ans15:\n",
    "The syntax for matching both numbers and lowercase letters with a character class is [0-9a-z] or [a-z0-9]"
   ]
  },
  {
   "cell_type": "code",
   "execution_count": null,
   "id": "38ee805b",
   "metadata": {},
   "outputs": [],
   "source": [
    "Q16:\n",
    "What is the procedure for making a normal expression in regex case insensitive?"
   ]
  },
  {
   "cell_type": "code",
   "execution_count": null,
   "id": "84fd733d",
   "metadata": {},
   "outputs": [],
   "source": [
    "Ans16:\n",
    "Passing re.I or re.IGNORECASE as the second argument to re.compile() will make the matching case insensitive."
   ]
  },
  {
   "cell_type": "code",
   "execution_count": null,
   "id": "dbabd141",
   "metadata": {},
   "outputs": [],
   "source": [
    "Q17:\n",
    "What does the . character normally match?\n",
    "What does it match if re.DOTALL is paused as 2nd argument in re.compile()?"
   ]
  },
  {
   "cell_type": "code",
   "execution_count": null,
   "id": "1a3c286d",
   "metadata": {},
   "outputs": [],
   "source": [
    "Ans17:\n",
    "The . character normally matches any character except the newline character.\n",
    "If re.DOTALL is passed as the second argument to re.compile(), then the . will also match newline characters."
   ]
  },
  {
   "cell_type": "code",
   "execution_count": null,
   "id": "7ce4a5da",
   "metadata": {},
   "outputs": [],
   "source": [
    "Q18:\n",
    "If numRegex = re.compile(r'\\d+'), what will numRegex.sub('X','11 drummers, 10 pipers, five rings, 4 hen') return?"
   ]
  },
  {
   "cell_type": "code",
   "execution_count": null,
   "id": "c0c1f43a",
   "metadata": {},
   "outputs": [],
   "source": [
    "Ans18:\n",
    "It will return: 'X drummers, X pipers, five rings, X hens'"
   ]
  },
  {
   "cell_type": "code",
   "execution_count": null,
   "id": "681600a5",
   "metadata": {},
   "outputs": [],
   "source": [
    "Q19:\n",
    "What does passing re.VERBOSE as the 2nd argument to re.compile() allow you to do?"
   ]
  },
  {
   "cell_type": "code",
   "execution_count": null,
   "id": "2bdacfa8",
   "metadata": {},
   "outputs": [],
   "source": [
    "Ans19:\n",
    "The re.VERBOSE argument allows to add whitespace and comments to the string passed to re.compile() as the 2nd argument."
   ]
  },
  {
   "cell_type": "code",
   "execution_count": null,
   "id": "c82a2a44",
   "metadata": {},
   "outputs": [],
   "source": [
    "Q20:\n",
    "How would you write a regex that match a number with comma for every three digits? It must match the given following:\n",
    "\n",
    "'42'\n",
    "\n",
    "'1,234'\n",
    "\n",
    "'6,368,745'\n",
    "\n",
    "but not the following:\n",
    "\n",
    "'12,34,567' (which has only two digits between the commas)\n",
    "\n",
    "'1234' (which lacks commas)"
   ]
  },
  {
   "cell_type": "code",
   "execution_count": null,
   "id": "248c5fd4",
   "metadata": {},
   "outputs": [],
   "source": [
    "Ans20:\n",
    "re.compile(r'^\\d{1,3}(,\\d{3})*$') will create this regex."
   ]
  },
  {
   "cell_type": "code",
   "execution_count": null,
   "id": "5b6b3e47",
   "metadata": {},
   "outputs": [],
   "source": [
    "Q21:\n",
    "How would you write a regex that matches the full name of someone whose last name is Watanabe?\n",
    "You can assume that the first name that comes before it will always be one word that begins with a capital letter.\n",
    "The regex must match the following:\n",
    "\n",
    "'Haruto Watanabe'\n",
    "\n",
    "'Alice Watanabe'\n",
    "\n",
    "'RoboCop Watanabe'\n",
    "\n",
    "but not the following:\n",
    "\n",
    "'haruto Watanabe' (where the first name is not capitalized)\n",
    "\n",
    "'Mr. Watanabe' (where the preceding word has a nonletter character)\n",
    "\n",
    "'Watanabe' (which has no first name)\n",
    "\n",
    "'Haruto watanabe' (where Watanabe is not capitalized)"
   ]
  },
  {
   "cell_type": "code",
   "execution_count": null,
   "id": "a8129999",
   "metadata": {},
   "outputs": [],
   "source": [
    "Ans21:\n",
    "For the above conditions the regex will be re.compile(r'[A-Z][a-z]*\\sWatanabe')"
   ]
  },
  {
   "cell_type": "code",
   "execution_count": null,
   "id": "2af16005",
   "metadata": {},
   "outputs": [],
   "source": [
    "Q22:\n",
    "How would you write a regex that matches a sentence where the first word is either Alice, Bob, or Carol;\n",
    "the second word is either eats, pets, or throws; the third word is apples, cats, or baseballs;\n",
    "and the sentence ends with a period? This regex should be case-insensitive. It must match the following:\n",
    "\n",
    "'Alice eats apples.'\n",
    "\n",
    "'Bob pets cats.'\n",
    "\n",
    "'Carol throws baseballs.'\n",
    "\n",
    "'Alice throws Apples.'\n",
    "\n",
    "'BOB EATS CATS.'\n",
    "\n",
    "but not the following:\n",
    "\n",
    "'RoboCop eats apples.'\n",
    "\n",
    "'ALICE THROWS FOOTBALLS.'\n",
    "\n",
    "'Carol eats 7 cats.'"
   ]
  },
  {
   "cell_type": "code",
   "execution_count": null,
   "id": "d2f41169",
   "metadata": {},
   "outputs": [],
   "source": [
    "Ans22:\n",
    "For the above conditions the regex will be:\n",
    "re.compile(r'(Alice|Bob|Carol)\\s(eats|pets|throws)\\s(apples|cats|baseballs)\\.', re.IGNORECASE)"
   ]
  }
 ],
 "metadata": {
  "kernelspec": {
   "display_name": "Python 3 (ipykernel)",
   "language": "python",
   "name": "python3"
  },
  "language_info": {
   "codemirror_mode": {
    "name": "ipython",
    "version": 3
   },
   "file_extension": ".py",
   "mimetype": "text/x-python",
   "name": "python",
   "nbconvert_exporter": "python",
   "pygments_lexer": "ipython3",
   "version": "3.9.13"
  }
 },
 "nbformat": 4,
 "nbformat_minor": 5
}
